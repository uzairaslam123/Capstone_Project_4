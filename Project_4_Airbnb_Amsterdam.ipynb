{
 "cells": [
  {
   "cell_type": "markdown",
   "metadata": {},
   "source": [
    "This notebook is used to answer the Questions for Airbnb Accomodations in Amsterdam and i will be using the CRISP-DM approach to answer some questions. "
   ]
  },
  {
   "cell_type": "code",
   "execution_count": 1,
   "metadata": {},
   "outputs": [],
   "source": [
    "#Importing the Libraries\n",
    "import pandas as pd\n",
    "import numpy as np\n",
    "import matplotlib.pyplot as plt\n",
    "from sklearn.linear_model import LinearRegression\n",
    "from sklearn.model_selection import train_test_split\n",
    "from sklearn.metrics import r2_score, mean_squared_error\n",
    "import seaborn as sns\n",
    "from sklearn.model_selection import RandomizedSearchCV, GridSearchCV\n",
    "from sklearn.preprocessing import StandardScaler\n",
    "from sklearn.ensemble import AdaBoostRegressor\n",
    "from sklearn.ensemble import RandomForestRegressor\n",
    "from scipy.stats import randint"
   ]
  },
  {
   "cell_type": "markdown",
   "metadata": {},
   "source": [
    "# Business Understanding - Airbnb accomodations in Amsterdam.\n",
    "\n",
    "We will be looking into the Airbnb data to get a better understanding of the Airbnb accomodations listed in Amsterdam. We are interested to understand the data in order to answer the following questions.\n",
    "\n",
    "What is the most popular neighborhood to stay in Amsterdam?\n",
    "What is the average price/night for Airbnb in Amsterdam?\n",
    "What factors influence the price of Airbnb accommodation in Amsterdam?\n",
    "To answer these questions, the features that are of particular interest for us are 'neighbourhood group', 'room type' and 'price'."
   ]
  },
  {
   "cell_type": "markdown",
   "metadata": {},
   "source": [
    "# Loading Airbnb Data Set\n",
    "\n",
    "We are now going to load the data set provided by Airbnb for its accomodations in Amsterdam."
   ]
  },
  {
   "cell_type": "code",
   "execution_count": 2,
   "metadata": {},
   "outputs": [],
   "source": [
    "listing = pd.read_csv('listings.csv') #reading the listings dataset in a datafram called 'listing'"
   ]
  },
  {
   "cell_type": "markdown",
   "metadata": {},
   "source": [
    "# Data Understanding\n",
    "\n",
    "To understand the data we are going to have a look into the different features present in the data set and then identify which features are relevant for answering our question."
   ]
  },
  {
   "cell_type": "code",
   "execution_count": 3,
   "metadata": {},
   "outputs": [
    {
     "data": {
      "text/html": [
       "<div>\n",
       "<style scoped>\n",
       "    .dataframe tbody tr th:only-of-type {\n",
       "        vertical-align: middle;\n",
       "    }\n",
       "\n",
       "    .dataframe tbody tr th {\n",
       "        vertical-align: top;\n",
       "    }\n",
       "\n",
       "    .dataframe thead th {\n",
       "        text-align: right;\n",
       "    }\n",
       "</style>\n",
       "<table border=\"1\" class=\"dataframe\">\n",
       "  <thead>\n",
       "    <tr style=\"text-align: right;\">\n",
       "      <th></th>\n",
       "      <th>id</th>\n",
       "      <th>name</th>\n",
       "      <th>host_id</th>\n",
       "      <th>host_name</th>\n",
       "      <th>neighbourhood_group</th>\n",
       "      <th>neighbourhood</th>\n",
       "      <th>latitude</th>\n",
       "      <th>longitude</th>\n",
       "      <th>room_type</th>\n",
       "      <th>price</th>\n",
       "      <th>minimum_nights</th>\n",
       "      <th>number_of_reviews</th>\n",
       "      <th>last_review</th>\n",
       "      <th>reviews_per_month</th>\n",
       "      <th>calculated_host_listings_count</th>\n",
       "      <th>availability_365</th>\n",
       "    </tr>\n",
       "  </thead>\n",
       "  <tbody>\n",
       "    <tr>\n",
       "      <th>0</th>\n",
       "      <td>2818</td>\n",
       "      <td>Quiet Garden View Room &amp; Super Fast WiFi</td>\n",
       "      <td>3159</td>\n",
       "      <td>Daniel</td>\n",
       "      <td>NaN</td>\n",
       "      <td>Oostelijk Havengebied - Indische Buurt</td>\n",
       "      <td>52.36575</td>\n",
       "      <td>4.94142</td>\n",
       "      <td>Private room</td>\n",
       "      <td>59</td>\n",
       "      <td>3</td>\n",
       "      <td>278</td>\n",
       "      <td>2020-02-14</td>\n",
       "      <td>2.04</td>\n",
       "      <td>1</td>\n",
       "      <td>158</td>\n",
       "    </tr>\n",
       "    <tr>\n",
       "      <th>1</th>\n",
       "      <td>9693</td>\n",
       "      <td>Top Location on Canal (Center Flat)</td>\n",
       "      <td>32366</td>\n",
       "      <td>Sabine And Sander</td>\n",
       "      <td>NaN</td>\n",
       "      <td>Centrum-West</td>\n",
       "      <td>52.37802</td>\n",
       "      <td>4.89270</td>\n",
       "      <td>Entire home/apt</td>\n",
       "      <td>119</td>\n",
       "      <td>3</td>\n",
       "      <td>55</td>\n",
       "      <td>2018-06-29</td>\n",
       "      <td>0.44</td>\n",
       "      <td>1</td>\n",
       "      <td>17</td>\n",
       "    </tr>\n",
       "    <tr>\n",
       "      <th>2</th>\n",
       "      <td>20168</td>\n",
       "      <td>Studio with private bathroom in the centre 1</td>\n",
       "      <td>59484</td>\n",
       "      <td>Alexander</td>\n",
       "      <td>NaN</td>\n",
       "      <td>Centrum-Oost</td>\n",
       "      <td>52.36509</td>\n",
       "      <td>4.89354</td>\n",
       "      <td>Private room</td>\n",
       "      <td>100</td>\n",
       "      <td>1</td>\n",
       "      <td>340</td>\n",
       "      <td>2020-04-09</td>\n",
       "      <td>2.72</td>\n",
       "      <td>2</td>\n",
       "      <td>31</td>\n",
       "    </tr>\n",
       "    <tr>\n",
       "      <th>3</th>\n",
       "      <td>25428</td>\n",
       "      <td>Lovely apt in City Centre (w.lift) near Jordaan</td>\n",
       "      <td>56142</td>\n",
       "      <td>Joan</td>\n",
       "      <td>NaN</td>\n",
       "      <td>Centrum-West</td>\n",
       "      <td>52.37297</td>\n",
       "      <td>4.88339</td>\n",
       "      <td>Entire home/apt</td>\n",
       "      <td>125</td>\n",
       "      <td>14</td>\n",
       "      <td>5</td>\n",
       "      <td>2020-02-09</td>\n",
       "      <td>0.17</td>\n",
       "      <td>1</td>\n",
       "      <td>212</td>\n",
       "    </tr>\n",
       "    <tr>\n",
       "      <th>4</th>\n",
       "      <td>27886</td>\n",
       "      <td>Romantic, stylish B&amp;B houseboat in canal district</td>\n",
       "      <td>97647</td>\n",
       "      <td>Flip</td>\n",
       "      <td>NaN</td>\n",
       "      <td>Centrum-West</td>\n",
       "      <td>52.38761</td>\n",
       "      <td>4.89188</td>\n",
       "      <td>Private room</td>\n",
       "      <td>135</td>\n",
       "      <td>2</td>\n",
       "      <td>217</td>\n",
       "      <td>2020-03-02</td>\n",
       "      <td>2.12</td>\n",
       "      <td>1</td>\n",
       "      <td>235</td>\n",
       "    </tr>\n",
       "  </tbody>\n",
       "</table>\n",
       "</div>"
      ],
      "text/plain": [
       "      id                                               name  host_id  \\\n",
       "0   2818           Quiet Garden View Room & Super Fast WiFi     3159   \n",
       "1   9693                Top Location on Canal (Center Flat)    32366   \n",
       "2  20168       Studio with private bathroom in the centre 1    59484   \n",
       "3  25428    Lovely apt in City Centre (w.lift) near Jordaan    56142   \n",
       "4  27886  Romantic, stylish B&B houseboat in canal district    97647   \n",
       "\n",
       "           host_name  neighbourhood_group  \\\n",
       "0             Daniel                  NaN   \n",
       "1  Sabine And Sander                  NaN   \n",
       "2          Alexander                  NaN   \n",
       "3               Joan                  NaN   \n",
       "4               Flip                  NaN   \n",
       "\n",
       "                            neighbourhood  latitude  longitude  \\\n",
       "0  Oostelijk Havengebied - Indische Buurt  52.36575    4.94142   \n",
       "1                            Centrum-West  52.37802    4.89270   \n",
       "2                            Centrum-Oost  52.36509    4.89354   \n",
       "3                            Centrum-West  52.37297    4.88339   \n",
       "4                            Centrum-West  52.38761    4.89188   \n",
       "\n",
       "         room_type  price  minimum_nights  number_of_reviews last_review  \\\n",
       "0     Private room     59               3                278  2020-02-14   \n",
       "1  Entire home/apt    119               3                 55  2018-06-29   \n",
       "2     Private room    100               1                340  2020-04-09   \n",
       "3  Entire home/apt    125              14                  5  2020-02-09   \n",
       "4     Private room    135               2                217  2020-03-02   \n",
       "\n",
       "   reviews_per_month  calculated_host_listings_count  availability_365  \n",
       "0               2.04                               1               158  \n",
       "1               0.44                               1                17  \n",
       "2               2.72                               2                31  \n",
       "3               0.17                               1               212  \n",
       "4               2.12                               1               235  "
      ]
     },
     "execution_count": 3,
     "metadata": {},
     "output_type": "execute_result"
    }
   ],
   "source": [
    "listing.head()"
   ]
  },
  {
   "cell_type": "code",
   "execution_count": 4,
   "metadata": {},
   "outputs": [
    {
     "data": {
      "text/plain": [
       "(19352, 16)"
      ]
     },
     "execution_count": 4,
     "metadata": {},
     "output_type": "execute_result"
    }
   ],
   "source": [
    "listing.shape"
   ]
  },
  {
   "cell_type": "markdown",
   "metadata": {},
   "source": [
    "# Question 1: What is the most popular neighborhood to stay in Amsterdam?"
   ]
  },
  {
   "cell_type": "markdown",
   "metadata": {},
   "source": [
    "### Data preparation and validation"
   ]
  },
  {
   "cell_type": "code",
   "execution_count": 5,
   "metadata": {},
   "outputs": [
    {
     "data": {
      "text/plain": [
       "Index(['name', 'host_name', 'neighbourhood_group', 'last_review',\n",
       "       'reviews_per_month'],\n",
       "      dtype='object')"
      ]
     },
     "execution_count": 5,
     "metadata": {},
     "output_type": "execute_result"
    }
   ],
   "source": [
    "#Column names with null or NAN values\n",
    "listing.columns[listing.isnull().any()] "
   ]
  },
  {
   "cell_type": "code",
   "execution_count": 6,
   "metadata": {},
   "outputs": [
    {
     "data": {
      "text/plain": [
       "0.0"
      ]
     },
     "execution_count": 6,
     "metadata": {},
     "output_type": "execute_result"
    }
   ],
   "source": [
    "#To check if 'neighbourhood_group' has any null or NAN values or not. Mean of 0.0 means it has no missing (null or NAN) value\n",
    "listing['neighbourhood'].isnull().mean() "
   ]
  },
  {
   "cell_type": "code",
   "execution_count": 7,
   "metadata": {},
   "outputs": [
    {
     "data": {
      "text/plain": [
       "De Baarsjes - Oud-West                    3252\n",
       "De Pijp - Rivierenbuurt                   2404\n",
       "Centrum-West                              2152\n",
       "Centrum-Oost                              1668\n",
       "Westerpark                                1448\n",
       "Zuid                                      1382\n",
       "Oud-Oost                                  1264\n",
       "Bos en Lommer                             1102\n",
       "Oostelijk Havengebied - Indische Buurt     949\n",
       "Oud-Noord                                  574\n",
       "Watergraafsmeer                            561\n",
       "IJburg - Zeeburgereiland                   465\n",
       "Slotervaart                                411\n",
       "Noord-West                                 387\n",
       "Noord-Oost                                 266\n",
       "Buitenveldert - Zuidas                     247\n",
       "Geuzenveld - Slotermeer                    220\n",
       "De Aker - Nieuw Sloten                     138\n",
       "Gaasperdam - Driemond                      125\n",
       "Osdorp                                     123\n",
       "Bijlmer-Centrum                            113\n",
       "Bijlmer-Oost                               101\n",
       "Name: neighbourhood, dtype: int64"
      ]
     },
     "execution_count": 7,
     "metadata": {},
     "output_type": "execute_result"
    }
   ],
   "source": [
    "#Displaying total number of occurences for each neighbourhood type\n",
    "listing['neighbourhood'].value_counts()"
   ]
  },
  {
   "cell_type": "markdown",
   "metadata": {},
   "source": [
    "Now i would like to create a dictionary with the total number of reviews for each neighbourhood."
   ]
  },
  {
   "cell_type": "code",
   "execution_count": 8,
   "metadata": {},
   "outputs": [],
   "source": [
    "#saving all the names of the neighbourhoods\n",
    "neighbourhood_names = np.array(listing['neighbourhood'].value_counts().index)"
   ]
  },
  {
   "cell_type": "code",
   "execution_count": 9,
   "metadata": {},
   "outputs": [
    {
     "data": {
      "text/plain": [
       "array(['De Baarsjes - Oud-West', 'De Pijp - Rivierenbuurt',\n",
       "       'Centrum-West', 'Centrum-Oost', 'Westerpark', 'Zuid', 'Oud-Oost',\n",
       "       'Bos en Lommer', 'Oostelijk Havengebied - Indische Buurt',\n",
       "       'Oud-Noord', 'Watergraafsmeer', 'IJburg - Zeeburgereiland',\n",
       "       'Slotervaart', 'Noord-West', 'Noord-Oost',\n",
       "       'Buitenveldert - Zuidas', 'Geuzenveld - Slotermeer',\n",
       "       'De Aker - Nieuw Sloten', 'Gaasperdam - Driemond', 'Osdorp',\n",
       "       'Bijlmer-Centrum', 'Bijlmer-Oost'], dtype=object)"
      ]
     },
     "execution_count": 9,
     "metadata": {},
     "output_type": "execute_result"
    }
   ],
   "source": [
    "# Displaying the neighbourhood_names array\n",
    "neighbourhood_names"
   ]
  },
  {
   "cell_type": "code",
   "execution_count": 10,
   "metadata": {},
   "outputs": [],
   "source": [
    "#Creating a function to create a list of sum of reviews for each neighbourhood.\n",
    "\n",
    "#List to store the sum of each neighbourhood\n",
    "sum_reviews = []\n",
    "\n",
    "def sum_of_reviews(neighbourhood_names):\n",
    "    \n",
    "    #Write documentation here\n",
    "    \n",
    "    for name in neighbourhood_names:\n",
    "        \n",
    "        #sotring the sum of reviews for each 'name' in 'neighbourhood_names' array\n",
    "        sum_reviews.append(listing.loc[listing['neighbourhood'] == name ]['number_of_reviews'].sum())\n",
    "        \n",
    "    return sum_reviews\n",
    "    "
   ]
  },
  {
   "cell_type": "code",
   "execution_count": 11,
   "metadata": {},
   "outputs": [],
   "source": [
    "#Saving the output of the 'sum_of_reviews' function in the list 'sum_reviews'\n",
    "sum_reviews = sum_of_reviews(neighbourhood_names)"
   ]
  },
  {
   "cell_type": "code",
   "execution_count": 12,
   "metadata": {},
   "outputs": [
    {
     "data": {
      "text/plain": [
       "[72038,\n",
       " 53661,\n",
       " 89553,\n",
       " 56471,\n",
       " 31171,\n",
       " 28530,\n",
       " 24492,\n",
       " 21024,\n",
       " 19590,\n",
       " 15540,\n",
       " 9847,\n",
       " 8294,\n",
       " 9150,\n",
       " 9260,\n",
       " 6269,\n",
       " 4161,\n",
       " 4628,\n",
       " 5433,\n",
       " 4148,\n",
       " 3213,\n",
       " 3169,\n",
       " 2699]"
      ]
     },
     "execution_count": 12,
     "metadata": {},
     "output_type": "execute_result"
    }
   ],
   "source": [
    "#Displaying the list\n",
    "sum_reviews"
   ]
  },
  {
   "cell_type": "code",
   "execution_count": 13,
   "metadata": {},
   "outputs": [],
   "source": [
    "#Creting a dictionary to store the names of each neighbourhood along with their total sum fo reviews.\n",
    "dic_reviews = {}\n",
    "#neighbourhood_names\n",
    "for idx, name in enumerate(neighbourhood_names):\n",
    "    dic_reviews[name] = sum_reviews[idx]"
   ]
  },
  {
   "cell_type": "code",
   "execution_count": 14,
   "metadata": {},
   "outputs": [
    {
     "data": {
      "text/plain": [
       "{'De Baarsjes - Oud-West': 72038,\n",
       " 'De Pijp - Rivierenbuurt': 53661,\n",
       " 'Centrum-West': 89553,\n",
       " 'Centrum-Oost': 56471,\n",
       " 'Westerpark': 31171,\n",
       " 'Zuid': 28530,\n",
       " 'Oud-Oost': 24492,\n",
       " 'Bos en Lommer': 21024,\n",
       " 'Oostelijk Havengebied - Indische Buurt': 19590,\n",
       " 'Oud-Noord': 15540,\n",
       " 'Watergraafsmeer': 9847,\n",
       " 'IJburg - Zeeburgereiland': 8294,\n",
       " 'Slotervaart': 9150,\n",
       " 'Noord-West': 9260,\n",
       " 'Noord-Oost': 6269,\n",
       " 'Buitenveldert - Zuidas': 4161,\n",
       " 'Geuzenveld - Slotermeer': 4628,\n",
       " 'De Aker - Nieuw Sloten': 5433,\n",
       " 'Gaasperdam - Driemond': 4148,\n",
       " 'Osdorp': 3213,\n",
       " 'Bijlmer-Centrum': 3169,\n",
       " 'Bijlmer-Oost': 2699}"
      ]
     },
     "execution_count": 14,
     "metadata": {},
     "output_type": "execute_result"
    }
   ],
   "source": [
    "dic_reviews"
   ]
  },
  {
   "cell_type": "code",
   "execution_count": 15,
   "metadata": {},
   "outputs": [],
   "source": [
    "#Testing the code logic \n",
    "#listing.loc[listing['neighbourhood'] == 'De Baarsjes - Oud-West' ]['number_of_reviews'].sum()"
   ]
  },
  {
   "cell_type": "code",
   "execution_count": 16,
   "metadata": {},
   "outputs": [],
   "source": [
    "#Changing the dictionary to dataframe for ease of plotting\n",
    "sum_reviews_df = pd.DataFrame(list(dic_reviews.items()), columns = ['neighbourhood', 'sum_of_reviews'])"
   ]
  },
  {
   "cell_type": "code",
   "execution_count": 17,
   "metadata": {},
   "outputs": [],
   "source": [
    "#Sorting the values with the most number of reviews being the first.\n",
    "sum_of_reviews_df = sum_reviews_df.sort_values(by = ['sum_of_reviews'], ascending = False)"
   ]
  },
  {
   "cell_type": "code",
   "execution_count": 18,
   "metadata": {},
   "outputs": [
    {
     "data": {
      "text/html": [
       "<div>\n",
       "<style scoped>\n",
       "    .dataframe tbody tr th:only-of-type {\n",
       "        vertical-align: middle;\n",
       "    }\n",
       "\n",
       "    .dataframe tbody tr th {\n",
       "        vertical-align: top;\n",
       "    }\n",
       "\n",
       "    .dataframe thead th {\n",
       "        text-align: right;\n",
       "    }\n",
       "</style>\n",
       "<table border=\"1\" class=\"dataframe\">\n",
       "  <thead>\n",
       "    <tr style=\"text-align: right;\">\n",
       "      <th></th>\n",
       "      <th>neighbourhood</th>\n",
       "      <th>sum_of_reviews</th>\n",
       "    </tr>\n",
       "  </thead>\n",
       "  <tbody>\n",
       "    <tr>\n",
       "      <th>2</th>\n",
       "      <td>Centrum-West</td>\n",
       "      <td>89553</td>\n",
       "    </tr>\n",
       "    <tr>\n",
       "      <th>0</th>\n",
       "      <td>De Baarsjes - Oud-West</td>\n",
       "      <td>72038</td>\n",
       "    </tr>\n",
       "    <tr>\n",
       "      <th>3</th>\n",
       "      <td>Centrum-Oost</td>\n",
       "      <td>56471</td>\n",
       "    </tr>\n",
       "    <tr>\n",
       "      <th>1</th>\n",
       "      <td>De Pijp - Rivierenbuurt</td>\n",
       "      <td>53661</td>\n",
       "    </tr>\n",
       "    <tr>\n",
       "      <th>4</th>\n",
       "      <td>Westerpark</td>\n",
       "      <td>31171</td>\n",
       "    </tr>\n",
       "  </tbody>\n",
       "</table>\n",
       "</div>"
      ],
      "text/plain": [
       "             neighbourhood  sum_of_reviews\n",
       "2             Centrum-West           89553\n",
       "0   De Baarsjes - Oud-West           72038\n",
       "3             Centrum-Oost           56471\n",
       "1  De Pijp - Rivierenbuurt           53661\n",
       "4               Westerpark           31171"
      ]
     },
     "execution_count": 18,
     "metadata": {},
     "output_type": "execute_result"
    }
   ],
   "source": [
    "sum_of_reviews_df.head()"
   ]
  },
  {
   "cell_type": "markdown",
   "metadata": {},
   "source": [
    "### Visual data representation"
   ]
  },
  {
   "cell_type": "code",
   "execution_count": 19,
   "metadata": {},
   "outputs": [
    {
     "data": {
      "text/plain": [
       "Text(0.5,1,'Total number of Airbnb properties offered in different neighborhoods in Amsterdam')"
      ]
     },
     "execution_count": 19,
     "metadata": {},
     "output_type": "execute_result"
    },
    {
     "data": {
      "image/png": "[encoded data removed]",
      "text/plain": [
       "<Figure size 432x288 with 1 Axes>"
      ]
     },
     "metadata": {},
     "output_type": "display_data"
    }
   ],
   "source": [
    "# Plot of Airbnb in different neighborhood\n",
    "listing['neighbourhood'].value_counts().plot(kind='bar')\n",
    "\n",
    "#assigning title to our plot\n",
    "plt.title('Total number of Airbnb properties offered in different neighborhoods in Amsterdam') "
   ]
  },
  {
   "cell_type": "code",
   "execution_count": 20,
   "metadata": {},
   "outputs": [
    {
     "data": {
      "text/plain": [
       "Text(0.5,1,'Percentage of Airbnb properties offered in different neighborhoods in Amsterdam')"
      ]
     },
     "execution_count": 20,
     "metadata": {},
     "output_type": "execute_result"
    },
    {
     "data": {
      "image/png": "[encoded data removed]",
      "text/plain": [
       "<Figure size 432x288 with 1 Axes>"
      ]
     },
     "metadata": {},
     "output_type": "display_data"
    }
   ],
   "source": [
    "#This line of code is used to plot the percentage of different neighbourhood groups in Amsterdam. \n",
    "#'normalize=True' in value_counts() returns the values as percentages. \n",
    "popular_neighborhood = (listing['neighbourhood'].value_counts(normalize = True) * 100).plot(kind='bar')\n",
    "\n",
    "# Percentage of Airbnb in different neighborhood\n",
    "plt.title('Percentage of Airbnb properties offered in different neighborhoods in Amsterdam') "
   ]
  },
  {
   "cell_type": "code",
   "execution_count": 21,
   "metadata": {},
   "outputs": [
    {
     "data": {
      "text/plain": [
       "De Baarsjes - Oud-West                    16.804465\n",
       "De Pijp - Rivierenbuurt                   12.422489\n",
       "Centrum-West                              11.120298\n",
       "Centrum-Oost                               8.619264\n",
       "Westerpark                                 7.482431\n",
       "Zuid                                       7.141381\n",
       "Oud-Oost                                   6.531625\n",
       "Bos en Lommer                              5.694502\n",
       "Oostelijk Havengebied - Indische Buurt     4.903886\n",
       "Oud-Noord                                  2.966102\n",
       "Watergraafsmeer                            2.898925\n",
       "IJburg - Zeeburgereiland                   2.402852\n",
       "Slotervaart                                2.123811\n",
       "Noord-West                                 1.999793\n",
       "Noord-Oost                                 1.374535\n",
       "Buitenveldert - Zuidas                     1.276354\n",
       "Geuzenveld - Slotermeer                    1.136833\n",
       "De Aker - Nieuw Sloten                     0.713105\n",
       "Gaasperdam - Driemond                      0.645928\n",
       "Osdorp                                     0.635593\n",
       "Bijlmer-Centrum                            0.583919\n",
       "Bijlmer-Oost                               0.521910\n",
       "Name: neighbourhood, dtype: float64"
      ]
     },
     "execution_count": 21,
     "metadata": {},
     "output_type": "execute_result"
    }
   ],
   "source": [
    "#Displaying different types neighbourhood groups as a percentage.\n",
    "listing['neighbourhood'].value_counts(normalize=True) *100"
   ]
  },
  {
   "cell_type": "markdown",
   "metadata": {},
   "source": [
    "So from the above plots, we can conclude that neighbourhood groups like 'De Baarsjes - Oud-West', 'De Pijp - Rivierenbuurt', 'Centrum-West', 'Westerpark' and 'Centrum-Oost' are very popular. These are the neighbourhoods where most of the Airbnb locations are being offered. More than 50% of all the Airbnb hostings are located in these five neighbourhoods but here we did not take into consideration the total number of reviews for each neighbourhood. We can improve our results by taking into account the number of reviews for each neighbourhood which will tell us how many people stayed in those Airbnb Accomodations and hence we can then conclude that those with the highest number of reviews are the most popular areas because most people stayed there. "
   ]
  },
  {
   "cell_type": "code",
   "execution_count": 22,
   "metadata": {},
   "outputs": [
    {
     "data": {
      "image/png": "[encoded data removed]",
      "text/plain": [
       "<Figure size 432x288 with 1 Axes>"
      ]
     },
     "metadata": {},
     "output_type": "display_data"
    }
   ],
   "source": [
    "#Plotting the sum of reviews for each neighbourhood.\n",
    "fig = plt.figure()\n",
    "ax = fig.add_axes([0,0,1,1])\n",
    "names = sum_of_reviews_df['neighbourhood'].values\n",
    "sum_values = sum_of_reviews_df['sum_of_reviews'].values\n",
    "ax.bar(names, sum_values)\n",
    "plt.xticks(rotation=90)\n",
    "plt.show()"
   ]
  },
  {
   "cell_type": "markdown",
   "metadata": {},
   "source": [
    "### Conclusion"
   ]
  },
  {
   "cell_type": "markdown",
   "metadata": {},
   "source": [
    "So from the plot it turned out that the neighbourhoods like 'Centrum-West', 'De Baarsjes - Oud-West', 'Centrum-West' and 'De Pijp - Rivierenbuurt' are the most popular neighbourhoods for Airbnb accomodations in Amsterdam because these neighbourhoods have the highest number of reviews. \n",
    "\n",
    "This shows that if we start digging deep and if we consider different attributes then we can better undertand the relationship between the attributes and ot can help us in answering questions in a more precise way. For example, i proved from the above exaple that if we consider number of reviews attribute then our results of the most popular neighbourhood changes.\n",
    "\n",
    "Here i would like to mention that we could have taken into consideration the reviews themselves to better understand if the guests liked the accomodation or not but that reuqires techniques like NLP (Naturual Language Processing) which i did want to go into. "
   ]
  },
  {
   "cell_type": "markdown",
   "metadata": {},
   "source": [
    "# Question 2: What is the average price/night for Airbnb in Amsterdam?"
   ]
  },
  {
   "cell_type": "markdown",
   "metadata": {},
   "source": [
    "What is the preferred type of property of Airbnb in Amsterdam based on the price distribution per 'room_type' of Airbnb in Amsterdam. Here in this question we will show the comparison between plotting the mean and the median value."
   ]
  },
  {
   "cell_type": "markdown",
   "metadata": {},
   "source": [
    "### Data preparation and validation"
   ]
  },
  {
   "cell_type": "code",
   "execution_count": 23,
   "metadata": {},
   "outputs": [
    {
     "data": {
      "text/plain": [
       "0.0"
      ]
     },
     "execution_count": 23,
     "metadata": {},
     "output_type": "execute_result"
    }
   ],
   "source": [
    "#Checking if the 'room_type' column contains any NaN values\n",
    "listing['room_type'].isnull().mean()"
   ]
  },
  {
   "cell_type": "code",
   "execution_count": 24,
   "metadata": {},
   "outputs": [
    {
     "data": {
      "text/plain": [
       "0.0"
      ]
     },
     "execution_count": 24,
     "metadata": {},
     "output_type": "execute_result"
    }
   ],
   "source": [
    "#Checking if the 'price' column contains any NaN values\n",
    "listing['price'].isnull().mean()"
   ]
  },
  {
   "cell_type": "code",
   "execution_count": 25,
   "metadata": {},
   "outputs": [
    {
     "data": {
      "text/plain": [
       "Entire home/apt    15107\n",
       "Private room        3918\n",
       "Hotel room           267\n",
       "Shared room           60\n",
       "Name: room_type, dtype: int64"
      ]
     },
     "execution_count": 25,
     "metadata": {},
     "output_type": "execute_result"
    }
   ],
   "source": [
    "#Checking no. of different type of rooms types in Airbnb Amsterdam\n",
    "different_room_types = listing['room_type'].value_counts()\n",
    "different_room_types"
   ]
  },
  {
   "cell_type": "code",
   "execution_count": 26,
   "metadata": {},
   "outputs": [
    {
     "data": {
      "text/plain": [
       "120"
      ]
     },
     "execution_count": 26,
     "metadata": {},
     "output_type": "execute_result"
    }
   ],
   "source": [
    "#print the index number of the max value in column 'price' (use just .max() to print only the max value in the column)\n",
    "listing['price'].idxmax()"
   ]
  },
  {
   "cell_type": "code",
   "execution_count": 27,
   "metadata": {},
   "outputs": [
    {
     "data": {
      "text/plain": [
       "9000"
      ]
     },
     "execution_count": 27,
     "metadata": {},
     "output_type": "execute_result"
    }
   ],
   "source": [
    "#Printing the max value of price.\n",
    "listing['price'].max()"
   ]
  },
  {
   "cell_type": "code",
   "execution_count": 28,
   "metadata": {},
   "outputs": [
    {
     "data": {
      "text/html": [
       "<div>\n",
       "<style scoped>\n",
       "    .dataframe tbody tr th:only-of-type {\n",
       "        vertical-align: middle;\n",
       "    }\n",
       "\n",
       "    .dataframe tbody tr th {\n",
       "        vertical-align: top;\n",
       "    }\n",
       "\n",
       "    .dataframe thead th {\n",
       "        text-align: right;\n",
       "    }\n",
       "</style>\n",
       "<table border=\"1\" class=\"dataframe\">\n",
       "  <thead>\n",
       "    <tr style=\"text-align: right;\">\n",
       "      <th></th>\n",
       "      <th>count</th>\n",
       "      <th>mean</th>\n",
       "      <th>std</th>\n",
       "      <th>min</th>\n",
       "      <th>25%</th>\n",
       "      <th>50%</th>\n",
       "      <th>75%</th>\n",
       "      <th>max</th>\n",
       "    </tr>\n",
       "    <tr>\n",
       "      <th>room_type</th>\n",
       "      <th></th>\n",
       "      <th></th>\n",
       "      <th></th>\n",
       "      <th></th>\n",
       "      <th></th>\n",
       "      <th></th>\n",
       "      <th></th>\n",
       "      <th></th>\n",
       "    </tr>\n",
       "  </thead>\n",
       "  <tbody>\n",
       "    <tr>\n",
       "      <th>Entire home/apt</th>\n",
       "      <td>15107.0</td>\n",
       "      <td>173.214007</td>\n",
       "      <td>145.028922</td>\n",
       "      <td>5.0</td>\n",
       "      <td>110.0</td>\n",
       "      <td>149.0</td>\n",
       "      <td>200.00</td>\n",
       "      <td>8000.0</td>\n",
       "    </tr>\n",
       "    <tr>\n",
       "      <th>Hotel room</th>\n",
       "      <td>267.0</td>\n",
       "      <td>244.138577</td>\n",
       "      <td>205.317322</td>\n",
       "      <td>20.0</td>\n",
       "      <td>135.0</td>\n",
       "      <td>190.0</td>\n",
       "      <td>275.00</td>\n",
       "      <td>1285.0</td>\n",
       "    </tr>\n",
       "    <tr>\n",
       "      <th>Private room</th>\n",
       "      <td>3918.0</td>\n",
       "      <td>132.246810</td>\n",
       "      <td>436.244131</td>\n",
       "      <td>10.0</td>\n",
       "      <td>68.0</td>\n",
       "      <td>88.0</td>\n",
       "      <td>120.00</td>\n",
       "      <td>9000.0</td>\n",
       "    </tr>\n",
       "    <tr>\n",
       "      <th>Shared room</th>\n",
       "      <td>60.0</td>\n",
       "      <td>184.500000</td>\n",
       "      <td>271.623025</td>\n",
       "      <td>17.0</td>\n",
       "      <td>50.0</td>\n",
       "      <td>67.5</td>\n",
       "      <td>157.75</td>\n",
       "      <td>1000.0</td>\n",
       "    </tr>\n",
       "  </tbody>\n",
       "</table>\n",
       "</div>"
      ],
      "text/plain": [
       "                   count        mean         std   min    25%    50%     75%  \\\n",
       "room_type                                                                      \n",
       "Entire home/apt  15107.0  173.214007  145.028922   5.0  110.0  149.0  200.00   \n",
       "Hotel room         267.0  244.138577  205.317322  20.0  135.0  190.0  275.00   \n",
       "Private room      3918.0  132.246810  436.244131  10.0   68.0   88.0  120.00   \n",
       "Shared room         60.0  184.500000  271.623025  17.0   50.0   67.5  157.75   \n",
       "\n",
       "                    max  \n",
       "room_type                \n",
       "Entire home/apt  8000.0  \n",
       "Hotel room       1285.0  \n",
       "Private room     9000.0  \n",
       "Shared room      1000.0  "
      ]
     },
     "execution_count": 28,
     "metadata": {},
     "output_type": "execute_result"
    }
   ],
   "source": [
    "#Code to print the details of the price depending on the 'room_type' \n",
    "listing.groupby('room_type')['price'].describe()"
   ]
  },
  {
   "cell_type": "code",
   "execution_count": 29,
   "metadata": {},
   "outputs": [
    {
     "name": "stdout",
     "output_type": "stream",
     "text": [
      "id                                                             286500\n",
      "name                              Center,Canal View, Private Bathroom\n",
      "host_id                                                       1491565\n",
      "host_name                                                       David\n",
      "neighbourhood_group                                               NaN\n",
      "neighbourhood                                            Centrum-West\n",
      "latitude                                                      52.3756\n",
      "longitude                                                         4.9\n",
      "room_type                                                Private room\n",
      "price                                                            9000\n",
      "minimum_nights                                                      3\n",
      "number_of_reviews                                                 275\n",
      "last_review                                                2020-03-06\n",
      "reviews_per_month                                                 2.7\n",
      "calculated_host_listings_count                                      2\n",
      "availability_365                                                  267\n",
      "Name: 120, dtype: object\n"
     ]
    }
   ],
   "source": [
    "#Code to print the row with max price (print entire row at that index number)\n",
    "print(listing.loc[listing['price'].idxmax()])"
   ]
  },
  {
   "cell_type": "markdown",
   "metadata": {},
   "source": [
    "### Visual data representation"
   ]
  },
  {
   "cell_type": "code",
   "execution_count": 30,
   "metadata": {},
   "outputs": [
    {
     "data": {
      "text/plain": [
       "<matplotlib.axes._subplots.AxesSubplot at 0x26a51296c18>"
      ]
     },
     "execution_count": 30,
     "metadata": {},
     "output_type": "execute_result"
    },
    {
     "data": {
      "image/png": "[encoded data removed]",
      "text/plain": [
       "<Figure size 432x288 with 1 Axes>"
      ]
     },
     "metadata": {},
     "output_type": "display_data"
    }
   ],
   "source": [
    "# This plot shows the median price of room type of Airbnb in Amsterdam\n",
    "Amsterdam_Median_plot = listing.groupby('room_type').price.median().sort_values(ascending=False).plot(kind='bar')\n",
    "Amsterdam_Median_plot"
   ]
  },
  {
   "cell_type": "code",
   "execution_count": 31,
   "metadata": {},
   "outputs": [
    {
     "data": {
      "text/plain": [
       "room_type\n",
       "Hotel room         190.0\n",
       "Entire home/apt    149.0\n",
       "Private room        88.0\n",
       "Shared room         67.5\n",
       "Name: price, dtype: float64"
      ]
     },
     "execution_count": 31,
     "metadata": {},
     "output_type": "execute_result"
    }
   ],
   "source": [
    "#printing the Median values \n",
    "Amsterdam_Median_values= listing.groupby('room_type').price.median().sort_values(ascending=False)\n",
    "Amsterdam_Median_values"
   ]
  },
  {
   "cell_type": "code",
   "execution_count": 32,
   "metadata": {},
   "outputs": [
    {
     "data": {
      "text/plain": [
       "<matplotlib.axes._subplots.AxesSubplot at 0x26a513933c8>"
      ]
     },
     "execution_count": 32,
     "metadata": {},
     "output_type": "execute_result"
    },
    {
     "data": {
      "image/png": "[encoded data removed]",
      "text/plain": [
       "<Figure size 432x288 with 1 Axes>"
      ]
     },
     "metadata": {},
     "output_type": "display_data"
    }
   ],
   "source": [
    "# This plot shows the mean price of room type of Airbnb in Amsterdam\n",
    "Amsterdam_Mean_plot = listing.groupby('room_type').price.mean().sort_values(ascending=False).plot(kind='bar')\n",
    "Amsterdam_Mean_plot"
   ]
  },
  {
   "cell_type": "code",
   "execution_count": 33,
   "metadata": {},
   "outputs": [
    {
     "data": {
      "text/plain": [
       "room_type\n",
       "Hotel room         244.138577\n",
       "Shared room        184.500000\n",
       "Entire home/apt    173.214007\n",
       "Private room       132.246810\n",
       "Name: price, dtype: float64"
      ]
     },
     "execution_count": 33,
     "metadata": {},
     "output_type": "execute_result"
    }
   ],
   "source": [
    "#Printing the Mean values\n",
    "Amsterdam_Mean_values = listing.groupby('room_type').price.mean().sort_values(ascending=False)\n",
    "Amsterdam_Mean_values"
   ]
  },
  {
   "cell_type": "markdown",
   "metadata": {},
   "source": [
    "### Conclusion for Question 2"
   ]
  },
  {
   "cell_type": "markdown",
   "metadata": {},
   "source": [
    "So from the above comparison we can see that Mean and Median can have different effects on the overall values. Sometimes taking the mean of all the values to represent the average might be a good idea and sometimes taking Median is a better approach. From this example, we saw that when we take the Mean of all the price values of room_type 'Shared room', it shows a very high number because there there will be Shared rooms which costs alot more per night. These kinds of values are outliers and they disturb the overall outcome and that is why we saw a very high mean value. On the other hand taking Median proved to be a better approach because it sorts all the values in the ascending manner and takes the middle value, which in this case, is a better representation of the average price. So to conclude, we can say that based on the scenario, we have to decide what is a better aproach to represent the average."
   ]
  },
  {
   "cell_type": "markdown",
   "metadata": {},
   "source": [
    "# Question 3: What factors influence the price of Airbnb accommodation in Amsterdam?"
   ]
  },
  {
   "cell_type": "markdown",
   "metadata": {},
   "source": [
    "In this notebook, we will create a Linear Regression Model to predict the features that influence the price but before we proceed we need to prepare our data so that it can be used by our model. We want to know what features are directly related to the price. We will also perform data cleaning and data wrangling operations before the data can be fed into the model for prediction."
   ]
  },
  {
   "cell_type": "markdown",
   "metadata": {},
   "source": [
    "## Correlation of features.\n"
   ]
  },
  {
   "cell_type": "markdown",
   "metadata": {},
   "source": [
    "In order to prepare the data for our model, I dediced to plot a correlation graph to see how different feautres are coorelated to each other. Often a useful plot is a correlation matrix - this can tell you which variables are related to one another."
   ]
  },
  {
   "cell_type": "code",
   "execution_count": 34,
   "metadata": {},
   "outputs": [
    {
     "data": {
      "image/png": "[encoded data removed]",
      "text/plain": [
       "<Figure size 432x288 with 2 Axes>"
      ]
     },
     "metadata": {},
     "output_type": "display_data"
    }
   ],
   "source": [
    "sns.heatmap(listing.corr(), annot=True, fmt=\".2f\");"
   ]
  },
  {
   "cell_type": "markdown",
   "metadata": {},
   "source": [
    "After observing the graph above, it is clear that the feautres are mostly independant of each other. Some features that are more correlated to each other are, for example, 'availability_365', 'number_of_reviews' and 'reviews_per_month'.\n",
    "Now let us proceed with the data preparation where we will remove feautres are not numeric and those that we think would not be helpful. "
   ]
  },
  {
   "cell_type": "markdown",
   "metadata": {},
   "source": [
    "### Data preparation for modelling"
   ]
  },
  {
   "cell_type": "code",
   "execution_count": 35,
   "metadata": {},
   "outputs": [],
   "source": [
    "def clean_data(df):\n",
    "    '''\n",
    "    INPUT\n",
    "    df - pandas dataframe \n",
    "    \n",
    "    OUTPUT\n",
    "    X - A matrix holding all of the features you want to consider when predicting the response\n",
    "    y - the corresponding response vector\n",
    "    \n",
    "    Perform to obtain the correct X and y objects\n",
    "    This function cleans df using the following steps to produce X and y:\n",
    "    1. Drop all the rows with no price\n",
    "    2. Create X as all the columns that are not the price column and that are numeric\n",
    "    3. Create y as the price column\n",
    "    4. Drop the 'id', 'name', 'host_id', 'host_name','neighbourhood_group', 'latitude', 'longitude', 'price',\n",
    "                'last_review','calculated_host_listings_count', 'availability_365' columns from X\n",
    "    5. For each numeric variable in X, fill the column with the mean value of the column.\n",
    "    6. Create dummy columns for all the categorical variables in X, drop the original columns\n",
    "    7. Return X and y\n",
    "    '''\n",
    "    \n",
    "    #Drop all the rows with no price\n",
    "    df = df.dropna(subset = ['price'], axis = 0)\n",
    "    y = df['price']\n",
    "    \n",
    "    #Drop columns that we do not want to consider \n",
    "    df = df.drop(['id', 'name', 'host_id', 'host_name',\n",
    "                  'neighbourhood_group', 'latitude', 'longitude', 'price',\n",
    "                  'last_review', 'reviews_per_month', 'calculated_host_listings_count', ], axis = 1)\n",
    "    \n",
    "    \n",
    "    #Fill the mean in the columns where we have some NaN values.\n",
    "    num_vars = df.select_dtypes(include = ['float', 'int']).columns\n",
    "    for col in num_vars:\n",
    "        df[col].fillna((df[col].mean()), inplace = True)\n",
    "        \n",
    "        \n",
    "    #Fill Dummy variables for the categorical columns. \n",
    "    cat_vars = df.select_dtypes(include = ['object']).copy().columns\n",
    "    for var in cat_vars:\n",
    "        df = pd.concat([df.drop(var, axis = 1), pd.get_dummies(df[var], prefix =var, prefix_sep='_', drop_first=False)], axis = 1)\n",
    "        \n",
    "    X = df\n",
    "    return X, y\n",
    "    \n",
    "#Use the function to create X and y\n",
    "X, y = clean_data(listing)"
   ]
  },
  {
   "cell_type": "code",
   "execution_count": 36,
   "metadata": {},
   "outputs": [
    {
     "data": {
      "text/html": [
       "<div>\n",
       "<style scoped>\n",
       "    .dataframe tbody tr th:only-of-type {\n",
       "        vertical-align: middle;\n",
       "    }\n",
       "\n",
       "    .dataframe tbody tr th {\n",
       "        vertical-align: top;\n",
       "    }\n",
       "\n",
       "    .dataframe thead th {\n",
       "        text-align: right;\n",
       "    }\n",
       "</style>\n",
       "<table border=\"1\" class=\"dataframe\">\n",
       "  <thead>\n",
       "    <tr style=\"text-align: right;\">\n",
       "      <th></th>\n",
       "      <th>minimum_nights</th>\n",
       "      <th>number_of_reviews</th>\n",
       "      <th>availability_365</th>\n",
       "      <th>neighbourhood_Bijlmer-Centrum</th>\n",
       "      <th>neighbourhood_Bijlmer-Oost</th>\n",
       "      <th>neighbourhood_Bos en Lommer</th>\n",
       "      <th>neighbourhood_Buitenveldert - Zuidas</th>\n",
       "      <th>neighbourhood_Centrum-Oost</th>\n",
       "      <th>neighbourhood_Centrum-West</th>\n",
       "      <th>neighbourhood_De Aker - Nieuw Sloten</th>\n",
       "      <th>...</th>\n",
       "      <th>neighbourhood_Oud-Noord</th>\n",
       "      <th>neighbourhood_Oud-Oost</th>\n",
       "      <th>neighbourhood_Slotervaart</th>\n",
       "      <th>neighbourhood_Watergraafsmeer</th>\n",
       "      <th>neighbourhood_Westerpark</th>\n",
       "      <th>neighbourhood_Zuid</th>\n",
       "      <th>room_type_Entire home/apt</th>\n",
       "      <th>room_type_Hotel room</th>\n",
       "      <th>room_type_Private room</th>\n",
       "      <th>room_type_Shared room</th>\n",
       "    </tr>\n",
       "  </thead>\n",
       "  <tbody>\n",
       "    <tr>\n",
       "      <th>0</th>\n",
       "      <td>3</td>\n",
       "      <td>278</td>\n",
       "      <td>158</td>\n",
       "      <td>0</td>\n",
       "      <td>0</td>\n",
       "      <td>0</td>\n",
       "      <td>0</td>\n",
       "      <td>0</td>\n",
       "      <td>0</td>\n",
       "      <td>0</td>\n",
       "      <td>...</td>\n",
       "      <td>0</td>\n",
       "      <td>0</td>\n",
       "      <td>0</td>\n",
       "      <td>0</td>\n",
       "      <td>0</td>\n",
       "      <td>0</td>\n",
       "      <td>0</td>\n",
       "      <td>0</td>\n",
       "      <td>1</td>\n",
       "      <td>0</td>\n",
       "    </tr>\n",
       "    <tr>\n",
       "      <th>1</th>\n",
       "      <td>3</td>\n",
       "      <td>55</td>\n",
       "      <td>17</td>\n",
       "      <td>0</td>\n",
       "      <td>0</td>\n",
       "      <td>0</td>\n",
       "      <td>0</td>\n",
       "      <td>0</td>\n",
       "      <td>1</td>\n",
       "      <td>0</td>\n",
       "      <td>...</td>\n",
       "      <td>0</td>\n",
       "      <td>0</td>\n",
       "      <td>0</td>\n",
       "      <td>0</td>\n",
       "      <td>0</td>\n",
       "      <td>0</td>\n",
       "      <td>1</td>\n",
       "      <td>0</td>\n",
       "      <td>0</td>\n",
       "      <td>0</td>\n",
       "    </tr>\n",
       "    <tr>\n",
       "      <th>2</th>\n",
       "      <td>1</td>\n",
       "      <td>340</td>\n",
       "      <td>31</td>\n",
       "      <td>0</td>\n",
       "      <td>0</td>\n",
       "      <td>0</td>\n",
       "      <td>0</td>\n",
       "      <td>1</td>\n",
       "      <td>0</td>\n",
       "      <td>0</td>\n",
       "      <td>...</td>\n",
       "      <td>0</td>\n",
       "      <td>0</td>\n",
       "      <td>0</td>\n",
       "      <td>0</td>\n",
       "      <td>0</td>\n",
       "      <td>0</td>\n",
       "      <td>0</td>\n",
       "      <td>0</td>\n",
       "      <td>1</td>\n",
       "      <td>0</td>\n",
       "    </tr>\n",
       "    <tr>\n",
       "      <th>3</th>\n",
       "      <td>14</td>\n",
       "      <td>5</td>\n",
       "      <td>212</td>\n",
       "      <td>0</td>\n",
       "      <td>0</td>\n",
       "      <td>0</td>\n",
       "      <td>0</td>\n",
       "      <td>0</td>\n",
       "      <td>1</td>\n",
       "      <td>0</td>\n",
       "      <td>...</td>\n",
       "      <td>0</td>\n",
       "      <td>0</td>\n",
       "      <td>0</td>\n",
       "      <td>0</td>\n",
       "      <td>0</td>\n",
       "      <td>0</td>\n",
       "      <td>1</td>\n",
       "      <td>0</td>\n",
       "      <td>0</td>\n",
       "      <td>0</td>\n",
       "    </tr>\n",
       "    <tr>\n",
       "      <th>4</th>\n",
       "      <td>2</td>\n",
       "      <td>217</td>\n",
       "      <td>235</td>\n",
       "      <td>0</td>\n",
       "      <td>0</td>\n",
       "      <td>0</td>\n",
       "      <td>0</td>\n",
       "      <td>0</td>\n",
       "      <td>1</td>\n",
       "      <td>0</td>\n",
       "      <td>...</td>\n",
       "      <td>0</td>\n",
       "      <td>0</td>\n",
       "      <td>0</td>\n",
       "      <td>0</td>\n",
       "      <td>0</td>\n",
       "      <td>0</td>\n",
       "      <td>0</td>\n",
       "      <td>0</td>\n",
       "      <td>1</td>\n",
       "      <td>0</td>\n",
       "    </tr>\n",
       "  </tbody>\n",
       "</table>\n",
       "<p>5 rows × 29 columns</p>\n",
       "</div>"
      ],
      "text/plain": [
       "   minimum_nights  number_of_reviews  availability_365  \\\n",
       "0               3                278               158   \n",
       "1               3                 55                17   \n",
       "2               1                340                31   \n",
       "3              14                  5               212   \n",
       "4               2                217               235   \n",
       "\n",
       "   neighbourhood_Bijlmer-Centrum  neighbourhood_Bijlmer-Oost  \\\n",
       "0                              0                           0   \n",
       "1                              0                           0   \n",
       "2                              0                           0   \n",
       "3                              0                           0   \n",
       "4                              0                           0   \n",
       "\n",
       "   neighbourhood_Bos en Lommer  neighbourhood_Buitenveldert - Zuidas  \\\n",
       "0                            0                                     0   \n",
       "1                            0                                     0   \n",
       "2                            0                                     0   \n",
       "3                            0                                     0   \n",
       "4                            0                                     0   \n",
       "\n",
       "   neighbourhood_Centrum-Oost  neighbourhood_Centrum-West  \\\n",
       "0                           0                           0   \n",
       "1                           0                           1   \n",
       "2                           1                           0   \n",
       "3                           0                           1   \n",
       "4                           0                           1   \n",
       "\n",
       "   neighbourhood_De Aker - Nieuw Sloten          ...            \\\n",
       "0                                     0          ...             \n",
       "1                                     0          ...             \n",
       "2                                     0          ...             \n",
       "3                                     0          ...             \n",
       "4                                     0          ...             \n",
       "\n",
       "   neighbourhood_Oud-Noord  neighbourhood_Oud-Oost  neighbourhood_Slotervaart  \\\n",
       "0                        0                       0                          0   \n",
       "1                        0                       0                          0   \n",
       "2                        0                       0                          0   \n",
       "3                        0                       0                          0   \n",
       "4                        0                       0                          0   \n",
       "\n",
       "   neighbourhood_Watergraafsmeer  neighbourhood_Westerpark  \\\n",
       "0                              0                         0   \n",
       "1                              0                         0   \n",
       "2                              0                         0   \n",
       "3                              0                         0   \n",
       "4                              0                         0   \n",
       "\n",
       "   neighbourhood_Zuid  room_type_Entire home/apt  room_type_Hotel room  \\\n",
       "0                   0                          0                     0   \n",
       "1                   0                          1                     0   \n",
       "2                   0                          0                     0   \n",
       "3                   0                          1                     0   \n",
       "4                   0                          0                     0   \n",
       "\n",
       "   room_type_Private room  room_type_Shared room  \n",
       "0                       1                      0  \n",
       "1                       0                      0  \n",
       "2                       1                      0  \n",
       "3                       0                      0  \n",
       "4                       1                      0  \n",
       "\n",
       "[5 rows x 29 columns]"
      ]
     },
     "execution_count": 36,
     "metadata": {},
     "output_type": "execute_result"
    }
   ],
   "source": [
    "X.head()"
   ]
  },
  {
   "cell_type": "code",
   "execution_count": null,
   "metadata": {},
   "outputs": [],
   "source": []
  },
  {
   "cell_type": "markdown",
   "metadata": {},
   "source": [
    "### Data Modelling"
   ]
  },
  {
   "cell_type": "markdown",
   "metadata": {},
   "source": [
    "Now that we have clean data available, we need to perform data modelling to make sure that data is in the form that is suitable for training and testing our model."
   ]
  },
  {
   "cell_type": "markdown",
   "metadata": {},
   "source": [
    "##### Splitting data into training and testing data sets."
   ]
  },
  {
   "cell_type": "code",
   "execution_count": 37,
   "metadata": {},
   "outputs": [],
   "source": [
    "#Create Training and Testing data\n",
    "\n",
    "X_train, X_test, y_train, y_test = train_test_split(X, y, test_size=0.3, random_state=42)\n",
    "#X_train, X_test, y_train, y_test = train_test_split(X, y, test_size=0.3)"
   ]
  },
  {
   "cell_type": "markdown",
   "metadata": {},
   "source": [
    "## Creating the ADABoost Model"
   ]
  },
  {
   "cell_type": "code",
   "execution_count": 38,
   "metadata": {},
   "outputs": [
    {
     "data": {
      "text/plain": [
       "RandomizedSearchCV(cv=3, error_score='raise',\n",
       "          estimator=AdaBoostRegressor(base_estimator=None, learning_rate=1.0, loss='linear',\n",
       "         n_estimators=50, random_state=None),\n",
       "          fit_params=None, iid=True, n_iter=20, n_jobs=-1,\n",
       "          param_distributions={'n_estimators': [500, 2000], 'learning_rate': [0.01, 0.05, 0.1, 0.3, 1], 'loss': ['linear', 'square', 'exponential']},\n",
       "          pre_dispatch='2*n_jobs', random_state=None, refit=True,\n",
       "          return_train_score='warn', scoring=None, verbose=0)"
      ]
     },
     "execution_count": 38,
     "metadata": {},
     "output_type": "execute_result"
    }
   ],
   "source": [
    "#ADA BOOST\n",
    "\n",
    "param_dist = {\n",
    " 'n_estimators': [500, 2000],\n",
    " 'learning_rate' : [0.01,0.05,0.1,0.3,1],\n",
    " 'loss' : ['linear', 'square', 'exponential']\n",
    " }\n",
    "\n",
    "\n",
    "\n",
    "adamodel = RandomizedSearchCV(AdaBoostRegressor(), param_distributions = param_dist, cv=3, n_iter = 20, n_jobs=-1);\n",
    "                              \n",
    "adamodel.fit(X_train, y_train)"
   ]
  },
  {
   "cell_type": "markdown",
   "metadata": {},
   "source": [
    "## ADABoost Model Evaluation"
   ]
  },
  {
   "cell_type": "code",
   "execution_count": 39,
   "metadata": {},
   "outputs": [],
   "source": [
    "#Predictions\n",
    "y_pred_ada = adamodel.predict(X_test)\n"
   ]
  },
  {
   "cell_type": "code",
   "execution_count": 40,
   "metadata": {},
   "outputs": [
    {
     "data": {
      "text/plain": [
       "0.05589702234455818"
      ]
     },
     "execution_count": 40,
     "metadata": {},
     "output_type": "execute_result"
    }
   ],
   "source": [
    "#Scoring the model\n",
    "r2_score(y_test, y_pred_ada)"
   ]
  },
  {
   "cell_type": "markdown",
   "metadata": {},
   "source": [
    "## Creating the Linear Regression Model"
   ]
  },
  {
   "cell_type": "code",
   "execution_count": 41,
   "metadata": {},
   "outputs": [],
   "source": [
    "#Instantiat the Model\n",
    "lm_model = LinearRegression(normalize=False)"
   ]
  },
  {
   "cell_type": "markdown",
   "metadata": {},
   "source": [
    "#### Fitting the model with train and test data sets"
   ]
  },
  {
   "cell_type": "code",
   "execution_count": 42,
   "metadata": {},
   "outputs": [
    {
     "data": {
      "text/plain": [
       "LinearRegression(copy_X=True, fit_intercept=True, n_jobs=1, normalize=False)"
      ]
     },
     "execution_count": 42,
     "metadata": {},
     "output_type": "execute_result"
    }
   ],
   "source": [
    "#Fit the Model\n",
    "\n",
    "lm_model.fit(X_train, y_train)"
   ]
  },
  {
   "cell_type": "markdown",
   "metadata": {},
   "source": [
    "## Linear Regression Model Evaluation"
   ]
  },
  {
   "cell_type": "markdown",
   "metadata": {},
   "source": [
    "The steps below help us evaluate the performance of our model."
   ]
  },
  {
   "cell_type": "code",
   "execution_count": 43,
   "metadata": {},
   "outputs": [],
   "source": [
    "#Predictions\n",
    "y_test_preds = lm_model.predict(X_test)\n",
    "y_train_preds = lm_model.predict(X_train)"
   ]
  },
  {
   "cell_type": "code",
   "execution_count": 44,
   "metadata": {},
   "outputs": [],
   "source": [
    "#Scoring the Model\n",
    "\n",
    "test_score = r2_score(y_test, y_test_preds)\n",
    "train_score = r2_score(y_train, y_train_preds)"
   ]
  },
  {
   "cell_type": "code",
   "execution_count": 45,
   "metadata": {},
   "outputs": [
    {
     "name": "stdout",
     "output_type": "stream",
     "text": [
      "The rsquared on the training data was 0.05498088475105323.  The rsquared on the test data was 0.043193392502388295.\n"
     ]
    }
   ],
   "source": [
    "#Print training and testing score\n",
    "print(\"The rsquared on the training data was {}.  The rsquared on the test data was {}.\".format(train_score, test_score))"
   ]
  },
  {
   "cell_type": "code",
   "execution_count": 46,
   "metadata": {},
   "outputs": [],
   "source": [
    "#Add more models here like 'SVM' and 'RandomForest'"
   ]
  },
  {
   "cell_type": "markdown",
   "metadata": {},
   "source": [
    "## Creating the Linear RandomForest Model"
   ]
  },
  {
   "cell_type": "code",
   "execution_count": 54,
   "metadata": {},
   "outputs": [],
   "source": [
    "# setting the parameters and then fitting the model\n",
    "param_dist = {\"max_depth\": randint(3,15),\n",
    "              \"n_estimators\" : [100, 1000],\n",
    "              \"min_samples_split\": randint(2, 11),\n",
    "              \"bootstrap\": [True, False],\n",
    "              \"min_samples_leaf\" : randint(1,10)\n",
    "                            }\n",
    "n_iter_search = 30\n",
    "randommodel = RandomizedSearchCV(RandomForestRegressor(), param_distributions=param_dist,\n",
    "                                   n_iter=n_iter_search, cv=5)\n",
    "randommodel.fit(X_train, y_train);"
   ]
  },
  {
   "cell_type": "code",
   "execution_count": 48,
   "metadata": {},
   "outputs": [],
   "source": [
    "#predicting on the Test set\n",
    "pred = randommodel.predict(X_test)"
   ]
  },
  {
   "cell_type": "code",
   "execution_count": 49,
   "metadata": {},
   "outputs": [
    {
     "data": {
      "text/plain": [
       "0.26306158294751203"
      ]
     },
     "execution_count": 49,
     "metadata": {},
     "output_type": "execute_result"
    }
   ],
   "source": [
    "#Calculating the r score of the model.\n",
    "r2_score(y_test, pred)"
   ]
  },
  {
   "cell_type": "markdown",
   "metadata": {},
   "source": [
    "From the above results of 'rsquared' values, we can see that our model is not predicting the outcomes in the most appropriate way. We saw that for models liek 'ADABoost' and 'LinearRegression', the rsquared is about 5% on both Training and Test datasets and this shows the limitations of our model and when we use the 'Random Forest' then we get a 26.3 % rsquared score. This shows that for different scenarios and use cases, there are different models that should be used. \n",
    "\n",
    "Now talking about the performance of my models, i think that one of the main reasons for such low rsquared values is that I have used very few features to predict the price. If i had used more features, i could have achieved better results. The data set i used for my project is the summarized version and contains only few columns. During data cleaning, i dropped certain columns that were not useful.\n",
    "\n",
    "One of the future steps that can be done to improve the overall rsquared values can be to try different models and also fine tune the parameters of these models, as well. On top of that, it would also make sense to try these models with a more detailed data set that can identify a good relation between different parameters and the price. "
   ]
  },
  {
   "cell_type": "markdown",
   "metadata": {},
   "source": [
    "# Evaluation of results"
   ]
  },
  {
   "cell_type": "markdown",
   "metadata": {},
   "source": [
    "Now we will create a function to output the coefficients that will help us evaluate our results and to identify the relation of features with the price."
   ]
  },
  {
   "cell_type": "code",
   "execution_count": 50,
   "metadata": {},
   "outputs": [
    {
     "data": {
      "text/html": [
       "<div>\n",
       "<style scoped>\n",
       "    .dataframe tbody tr th:only-of-type {\n",
       "        vertical-align: middle;\n",
       "    }\n",
       "\n",
       "    .dataframe tbody tr th {\n",
       "        vertical-align: top;\n",
       "    }\n",
       "\n",
       "    .dataframe thead th {\n",
       "        text-align: right;\n",
       "    }\n",
       "</style>\n",
       "<table border=\"1\" class=\"dataframe\">\n",
       "  <thead>\n",
       "    <tr style=\"text-align: right;\">\n",
       "      <th></th>\n",
       "      <th>est_int</th>\n",
       "      <th>coefs</th>\n",
       "      <th>abs_coefs</th>\n",
       "    </tr>\n",
       "  </thead>\n",
       "  <tbody>\n",
       "    <tr>\n",
       "      <th>7</th>\n",
       "      <td>neighbourhood_Centrum-Oost</td>\n",
       "      <td>70.916412</td>\n",
       "      <td>70.916412</td>\n",
       "    </tr>\n",
       "    <tr>\n",
       "      <th>8</th>\n",
       "      <td>neighbourhood_Centrum-West</td>\n",
       "      <td>69.777638</td>\n",
       "      <td>69.777638</td>\n",
       "    </tr>\n",
       "    <tr>\n",
       "      <th>12</th>\n",
       "      <td>neighbourhood_Gaasperdam - Driemond</td>\n",
       "      <td>-49.301671</td>\n",
       "      <td>49.301671</td>\n",
       "    </tr>\n",
       "    <tr>\n",
       "      <th>3</th>\n",
       "      <td>neighbourhood_Bijlmer-Centrum</td>\n",
       "      <td>-41.403072</td>\n",
       "      <td>41.403072</td>\n",
       "    </tr>\n",
       "    <tr>\n",
       "      <th>18</th>\n",
       "      <td>neighbourhood_Osdorp</td>\n",
       "      <td>-39.320942</td>\n",
       "      <td>39.320942</td>\n",
       "    </tr>\n",
       "    <tr>\n",
       "      <th>4</th>\n",
       "      <td>neighbourhood_Bijlmer-Oost</td>\n",
       "      <td>-33.856474</td>\n",
       "      <td>33.856474</td>\n",
       "    </tr>\n",
       "    <tr>\n",
       "      <th>27</th>\n",
       "      <td>room_type_Private room</td>\n",
       "      <td>-30.528415</td>\n",
       "      <td>30.528415</td>\n",
       "    </tr>\n",
       "    <tr>\n",
       "      <th>14</th>\n",
       "      <td>neighbourhood_IJburg - Zeeburgereiland</td>\n",
       "      <td>28.932696</td>\n",
       "      <td>28.932696</td>\n",
       "    </tr>\n",
       "    <tr>\n",
       "      <th>24</th>\n",
       "      <td>neighbourhood_Zuid</td>\n",
       "      <td>28.606431</td>\n",
       "      <td>28.606431</td>\n",
       "    </tr>\n",
       "    <tr>\n",
       "      <th>11</th>\n",
       "      <td>neighbourhood_De Pijp - Rivierenbuurt</td>\n",
       "      <td>22.995898</td>\n",
       "      <td>22.995898</td>\n",
       "    </tr>\n",
       "    <tr>\n",
       "      <th>25</th>\n",
       "      <td>room_type_Entire home/apt</td>\n",
       "      <td>21.138516</td>\n",
       "      <td>21.138516</td>\n",
       "    </tr>\n",
       "    <tr>\n",
       "      <th>5</th>\n",
       "      <td>neighbourhood_Bos en Lommer</td>\n",
       "      <td>-20.310050</td>\n",
       "      <td>20.310050</td>\n",
       "    </tr>\n",
       "    <tr>\n",
       "      <th>19</th>\n",
       "      <td>neighbourhood_Oud-Noord</td>\n",
       "      <td>19.599089</td>\n",
       "      <td>19.599089</td>\n",
       "    </tr>\n",
       "    <tr>\n",
       "      <th>21</th>\n",
       "      <td>neighbourhood_Slotervaart</td>\n",
       "      <td>-19.514524</td>\n",
       "      <td>19.514524</td>\n",
       "    </tr>\n",
       "    <tr>\n",
       "      <th>15</th>\n",
       "      <td>neighbourhood_Noord-Oost</td>\n",
       "      <td>-17.146233</td>\n",
       "      <td>17.146233</td>\n",
       "    </tr>\n",
       "    <tr>\n",
       "      <th>16</th>\n",
       "      <td>neighbourhood_Noord-West</td>\n",
       "      <td>-15.905818</td>\n",
       "      <td>15.905818</td>\n",
       "    </tr>\n",
       "    <tr>\n",
       "      <th>28</th>\n",
       "      <td>room_type_Shared room</td>\n",
       "      <td>15.635041</td>\n",
       "      <td>15.635041</td>\n",
       "    </tr>\n",
       "    <tr>\n",
       "      <th>6</th>\n",
       "      <td>neighbourhood_Buitenveldert - Zuidas</td>\n",
       "      <td>13.644862</td>\n",
       "      <td>13.644862</td>\n",
       "    </tr>\n",
       "    <tr>\n",
       "      <th>13</th>\n",
       "      <td>neighbourhood_Geuzenveld - Slotermeer</td>\n",
       "      <td>-11.939177</td>\n",
       "      <td>11.939177</td>\n",
       "    </tr>\n",
       "    <tr>\n",
       "      <th>17</th>\n",
       "      <td>neighbourhood_Oostelijk Havengebied - Indische...</td>\n",
       "      <td>-8.362410</td>\n",
       "      <td>8.362410</td>\n",
       "    </tr>\n",
       "    <tr>\n",
       "      <th>22</th>\n",
       "      <td>neighbourhood_Watergraafsmeer</td>\n",
       "      <td>-6.349694</td>\n",
       "      <td>6.349694</td>\n",
       "    </tr>\n",
       "    <tr>\n",
       "      <th>26</th>\n",
       "      <td>room_type_Hotel room</td>\n",
       "      <td>-6.245143</td>\n",
       "      <td>6.245143</td>\n",
       "    </tr>\n",
       "    <tr>\n",
       "      <th>10</th>\n",
       "      <td>neighbourhood_De Baarsjes - Oud-West</td>\n",
       "      <td>4.214893</td>\n",
       "      <td>4.214893</td>\n",
       "    </tr>\n",
       "    <tr>\n",
       "      <th>9</th>\n",
       "      <td>neighbourhood_De Aker - Nieuw Sloten</td>\n",
       "      <td>3.363373</td>\n",
       "      <td>3.363373</td>\n",
       "    </tr>\n",
       "    <tr>\n",
       "      <th>23</th>\n",
       "      <td>neighbourhood_Westerpark</td>\n",
       "      <td>2.097848</td>\n",
       "      <td>2.097848</td>\n",
       "    </tr>\n",
       "    <tr>\n",
       "      <th>20</th>\n",
       "      <td>neighbourhood_Oud-Oost</td>\n",
       "      <td>-0.739072</td>\n",
       "      <td>0.739072</td>\n",
       "    </tr>\n",
       "    <tr>\n",
       "      <th>2</th>\n",
       "      <td>availability_365</td>\n",
       "      <td>0.374651</td>\n",
       "      <td>0.374651</td>\n",
       "    </tr>\n",
       "    <tr>\n",
       "      <th>1</th>\n",
       "      <td>number_of_reviews</td>\n",
       "      <td>-0.332658</td>\n",
       "      <td>0.332658</td>\n",
       "    </tr>\n",
       "    <tr>\n",
       "      <th>0</th>\n",
       "      <td>minimum_nights</td>\n",
       "      <td>-0.115611</td>\n",
       "      <td>0.115611</td>\n",
       "    </tr>\n",
       "  </tbody>\n",
       "</table>\n",
       "</div>"
      ],
      "text/plain": [
       "                                              est_int      coefs  abs_coefs\n",
       "7                          neighbourhood_Centrum-Oost  70.916412  70.916412\n",
       "8                          neighbourhood_Centrum-West  69.777638  69.777638\n",
       "12                neighbourhood_Gaasperdam - Driemond -49.301671  49.301671\n",
       "3                       neighbourhood_Bijlmer-Centrum -41.403072  41.403072\n",
       "18                               neighbourhood_Osdorp -39.320942  39.320942\n",
       "4                          neighbourhood_Bijlmer-Oost -33.856474  33.856474\n",
       "27                             room_type_Private room -30.528415  30.528415\n",
       "14             neighbourhood_IJburg - Zeeburgereiland  28.932696  28.932696\n",
       "24                                 neighbourhood_Zuid  28.606431  28.606431\n",
       "11              neighbourhood_De Pijp - Rivierenbuurt  22.995898  22.995898\n",
       "25                          room_type_Entire home/apt  21.138516  21.138516\n",
       "5                         neighbourhood_Bos en Lommer -20.310050  20.310050\n",
       "19                            neighbourhood_Oud-Noord  19.599089  19.599089\n",
       "21                          neighbourhood_Slotervaart -19.514524  19.514524\n",
       "15                           neighbourhood_Noord-Oost -17.146233  17.146233\n",
       "16                           neighbourhood_Noord-West -15.905818  15.905818\n",
       "28                              room_type_Shared room  15.635041  15.635041\n",
       "6                neighbourhood_Buitenveldert - Zuidas  13.644862  13.644862\n",
       "13              neighbourhood_Geuzenveld - Slotermeer -11.939177  11.939177\n",
       "17  neighbourhood_Oostelijk Havengebied - Indische...  -8.362410   8.362410\n",
       "22                      neighbourhood_Watergraafsmeer  -6.349694   6.349694\n",
       "26                               room_type_Hotel room  -6.245143   6.245143\n",
       "10               neighbourhood_De Baarsjes - Oud-West   4.214893   4.214893\n",
       "9                neighbourhood_De Aker - Nieuw Sloten   3.363373   3.363373\n",
       "23                           neighbourhood_Westerpark   2.097848   2.097848\n",
       "20                             neighbourhood_Oud-Oost  -0.739072   0.739072\n",
       "2                                    availability_365   0.374651   0.374651\n",
       "1                                   number_of_reviews  -0.332658   0.332658\n",
       "0                                      minimum_nights  -0.115611   0.115611"
      ]
     },
     "execution_count": 50,
     "metadata": {},
     "output_type": "execute_result"
    }
   ],
   "source": [
    "def coef_weights(coefficients, X_train):\n",
    "    '''\n",
    "    INPUT:\n",
    "    coefficients - the coefficients of the linear model \n",
    "    X_train - the training data, so the column names can be used\n",
    "    OUTPUT:\n",
    "    coefs_df - a dataframe holding the coefficient, estimate, and abs(estimate)\n",
    "    \n",
    "    Provides a dataframe that can be used to understand the most influential coefficients\n",
    "    in a linear model by providing the coefficient estimates along with the name of the \n",
    "    variable attached to the coefficient.\n",
    "    '''\n",
    "    coefs_df = pd.DataFrame()\n",
    "    coefs_df['est_int'] = X_train.columns\n",
    "    coefs_df['coefs'] = lm_model.coef_\n",
    "    coefs_df['abs_coefs'] = np.abs(lm_model.coef_)\n",
    "    coefs_df = coefs_df.sort_values('abs_coefs', ascending=False)\n",
    "    return coefs_df\n",
    "\n",
    "#Use the function\n",
    "coef_df = coef_weights(lm_model.coef_, X_train)\n",
    "\n",
    "#A quick look at the results\n",
    "coef_df"
   ]
  },
  {
   "cell_type": "markdown",
   "metadata": {},
   "source": [
    "From the above results, we can clearly see that the variable/feature 'neighbourhood' has the highest influence on the price. This means that 'neighbourhood' will effect the price heavly either in the positive or negative manner, that is, it will predict a higher or lower price, depending on the type of the neighbourhood. If the 'neighbourhood' is Centrum-Oost then our model will predict a higher price where as if the 'neighbourhood' is Gaasperdam - Driemond, it will predict a lessser price.\n",
    "\n",
    "Anopther factor that effects the price, is the 'room_type'. Depending on the type of 'room_type' price, our model will predict either higher or lower price. Room tyes like 'Entire home/apt' will have a positive effect on the prediction of the price and room types like 'Private room' will have a negative effect and our model will predict a lesser price.\n",
    "\n",
    "It can also be seen that other features like, 'minimum_nights', 'availability_365' and 'number_of_reviews' have very less effect on the prediction.\n",
    "\n",
    "This is the benfit of looking into the coefficients of the model, it tells us which variables/features matter the most in predicting the outcome. Obviously, if our model had better rsquared results, the coefficients distribution would have been different but the most important thing, is to actually understand why the model behaves in a certain way and what factors can be modified to improve the performance of our model"
   ]
  },
  {
   "cell_type": "code",
   "execution_count": null,
   "metadata": {},
   "outputs": [],
   "source": []
  }
 ],
 "metadata": {
  "kernelspec": {
   "display_name": "Python 3",
   "language": "python",
   "name": "python3"
  },
  "language_info": {
   "codemirror_mode": {
    "name": "ipython",
    "version": 3
   },
   "file_extension": ".py",
   "mimetype": "text/x-python",
   "name": "python",
   "nbconvert_exporter": "python",
   "pygments_lexer": "ipython3",
   "version": "3.6.5"
  }
 },
 "nbformat": 4,
 "nbformat_minor": 2
}
